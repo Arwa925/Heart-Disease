import pandas as pd
import numpy as np
# Load the dataset
df = pd.read_csv('heart.csv')

# Display all columns
print(df.columns)

# Display first few rows
print(df.head())

# Display last few rows
print(df.tail())

# Descriptive statistics
print(df.describe())

# Check for missing values
print(df.isnull().sum())

# Impute missing values with mean
df.fillna(df.mean(), inplace=True)

from scipy import stats

# Removing outliers for cholesterol
df = df[(np.abs(stats.zscore(df['chol'])) < 3)]

# Shape before
print("Shape before:", df.shape)

# Shape after
print("Shape after:", df.shape)

# Mean, Median, and Standard Deviation of Cholesterol
mean_chol = df['chol'].mean()
median_chol = df['chol'].median()
std_chol = df['chol'].std()

print(f'Mean Cholesterol: {mean_chol}, Median Cholesterol: {median_chol}, Std Cholesterol: {std_chol}')

mean_bp_with_hd = df[df['target'] == 1]['trestbps'].mean()
mean_bp_without_hd = df[df['target'] == 0]['trestbps'].mean()

print(f'Mean BP with heart disease: {mean_bp_with_hd}, Mean BP without heart disease: {mean_bp_without_hd}')

max_hr = df['thalach'].max()
min_hr = df['thalach'].min()

print(f'Max HR: {max_hr}, Min HR: {min_hr}')

# Sort patients by cholesterol levels
sorted_df = df.sort_values('chol')

# Identify patients with cholesterol above 300 mg/dL
high_chol_patients = df[df['chol'] > 300]

# Find patients older than 60 with abnormal ECG
abnormal_ecg_patients = df[(df['age'] > 60) & (df['restecg'] > 0)]

# Reshape data
reshaped_data = np.reshape(df.values, (-1, 8))  # Adjust -1 and 8 based on your dataset

# Split the data
split_data = np.split(df.values, 2)  # Splitting into 2 parts

import matplotlib.pyplot as plt

plt.hist(df['chol'], bins=30, color='blue', alpha=0.7)
plt.title('Cholesterol Distribution')
plt.xlabel('Cholesterol (mg/dL)')
plt.ylabel('Number of Patients')
plt.show()

plt.scatter(df['age'], df['thalach'], alpha=0.5)
plt.title('Age vs Maximum Heart Rate')
plt.xlabel('Age')
plt.ylabel('Maximum Heart Rate')
plt.show()

df['target'].value_counts().plot(kind='bar', color=['blue', 'orange'])
plt.title('Patients with and without Heart Disease')
plt.xticks([0, 1], ['No Heart Disease', 'Heart Disease'], rotation=0)
plt.ylabel('Number of Patients')
plt.show()

from mpl_toolkits.mplot3d import Axes3D

fig = plt.figure()
ax = fig.add_subplot(111, projection='3d')
ax.scatter(df['chol'], df['age'], df['target'])
ax.set_xlabel('Cholesterol')
ax.set_ylabel('Age')
ax.set_zlabel('Heart Disease')
plt.show()

df['cp'].value_counts().plot(kind='pie', autopct='%1.1f%%')
plt.title('Chest Pain Types')
plt.ylabel('')
plt.show()
